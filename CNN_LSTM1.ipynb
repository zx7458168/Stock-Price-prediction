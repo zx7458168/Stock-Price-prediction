{
  "nbformat": 4,
  "nbformat_minor": 0,
  "metadata": {
    "colab": {
      "name": "Copy of CNN-LSTM1.ipynb",
      "provenance": [],
      "collapsed_sections": []
    },
    "kernelspec": {
      "name": "python3",
      "display_name": "Python 3"
    },
    "language_info": {
      "name": "python"
    }
  },
  "cells": [
    {
      "cell_type": "code",
      "metadata": {
        "colab": {
          "base_uri": "https://localhost:8080/"
        },
        "id": "M-kbiNjt3AJM",
        "outputId": "f2751600-45e4-4a3a-f296-3760f2e4bc40"
      },
      "source": [
        "!pip install YahooFinancials\n",
        "from yahoofinancials import YahooFinancials\n",
        "import json\n",
        "\n",
        "tech_stocks = ['AAPL']\n",
        "#tech_stocks = ['AAPL', 'MSFT', 'INTC']\n",
        "yahoo_financials_tech = YahooFinancials(tech_stocks)\n",
        "weekly = yahoo_financials_tech.get_historical_price_data(\"2000-01-01\", \"2021-11-16\", \"daily\")\n",
        "\n",
        "import pandas as pd\n",
        "with open('file.txt','w') as file:\n",
        "     file.write(json.dumps(weekly))\n",
        "import pandas as pd\n",
        "df = pd.read_json('file.txt')"
      ],
      "execution_count": null,
      "outputs": [
        {
          "output_type": "stream",
          "name": "stdout",
          "text": [
            "Collecting YahooFinancials\n",
            "  Downloading yahoofinancials-1.6.tar.gz (27 kB)\n",
            "Requirement already satisfied: beautifulsoup4 in /usr/local/lib/python3.7/dist-packages (from YahooFinancials) (4.6.3)\n",
            "Requirement already satisfied: pytz in /usr/local/lib/python3.7/dist-packages (from YahooFinancials) (2018.9)\n",
            "Building wheels for collected packages: YahooFinancials\n",
            "  Building wheel for YahooFinancials (setup.py) ... \u001b[?25l\u001b[?25hdone\n",
            "  Created wheel for YahooFinancials: filename=yahoofinancials-1.6-py3-none-any.whl size=15190 sha256=a4f75b331a008ad2533231bcefe055028aaed23d5585e559e25b6c361a92b5c2\n",
            "  Stored in directory: /root/.cache/pip/wheels/4b/63/46/e7110bfee88685fe69e338d1b14d1748921862aa57b6705b60\n",
            "Successfully built YahooFinancials\n",
            "Installing collected packages: YahooFinancials\n",
            "Successfully installed YahooFinancials-1.6\n"
          ]
        }
      ]
    },
    {
      "cell_type": "code",
      "metadata": {
        "id": "OwKmxFJs3IRv"
      },
      "source": [
        "adjclose, close, date, formatted_date, high, low, open, volume = [], [], [], [], [], [], [], []\n",
        "for i in range(0,len(df['AAPL']['prices'])):\n",
        "  adjclose.append(df['AAPL']['prices'][i]['adjclose'])\n",
        "  close.append(df['AAPL']['prices'][i]['close'])\n",
        "  date.append(df['AAPL']['prices'][i]['date'])\n",
        "  formatted_date.append(df['AAPL']['prices'][i]['formatted_date'])\n",
        "  high.append(df['AAPL']['prices'][i]['high'])\n",
        "  low.append(df['AAPL']['prices'][i]['low'])\n",
        "  open.append(df['AAPL']['prices'][i]['open'])\n",
        "  volume.append(df['AAPL']['prices'][i]['volume'])\n",
        "columns=['adjclose', 'close', 'date', 'formatted_date', 'high', 'low', 'open', 'volume']\n",
        "dfData = pd.DataFrame(columns=columns)\n",
        "dfData = pd.concat([pd.DataFrame([[adjclose[i], close[i], date[i], formatted_date[i], high[i], low[i], open[i], volume[i]]], columns = columns) for i in range(0,len(adjclose))], ignore_index=True)\n"
      ],
      "execution_count": null,
      "outputs": []
    },
    {
      "cell_type": "code",
      "metadata": {
        "colab": {
          "base_uri": "https://localhost:8080/"
        },
        "id": "1ABurT_z3TVQ",
        "outputId": "876ec715-4e90-4f32-97d9-4e73efd2ed4c"
      },
      "source": [
        "# k = dfData['close'].tolist()\n",
        "# k.reverse()\n",
        "print('as at: ' + str(dfData['formatted_date'].tolist()[-1]))"
      ],
      "execution_count": null,
      "outputs": [
        {
          "output_type": "stream",
          "name": "stdout",
          "text": [
            "as at: 2021-11-15\n"
          ]
        }
      ]
    },
    {
      "cell_type": "code",
      "metadata": {
        "colab": {
          "base_uri": "https://localhost:8080/"
        },
        "id": "J5tjoQ411tXQ",
        "outputId": "fcc9e5e1-eaa9-4422-ebc1-bed70b8268d4"
      },
      "source": [
        "# univariate cnn lstm example\n",
        "from numpy import array\n",
        "from keras.models import Sequential\n",
        "from keras.layers import LSTM\n",
        "from keras.layers import Dense\n",
        "from keras.layers import Flatten\n",
        "from keras.layers import TimeDistributed\n",
        "from keras.layers.convolutional import Conv1D\n",
        "from keras.layers.convolutional import MaxPooling1D\n",
        "import numpy as np\n",
        "# split a univariate sequence into samples\n",
        "def split_sequence(sequence, n_steps):\n",
        "\tX, y = list(), list()\n",
        "\tfor i in range(len(sequence)):\n",
        "\t\t# find the end of this pattern\n",
        "\t\tend_ix = i + n_steps\n",
        "\t\t# check if we are beyond the sequence\n",
        "\t\tif end_ix > len(sequence)-1:\n",
        "\t\t\tbreak\n",
        "\t\t# gather input and output parts of the pattern\n",
        "\t\tseq_x, seq_y = sequence[i:end_ix], sequence[end_ix]\n",
        "\t\tX.append(seq_x)\n",
        "\t\ty.append(seq_y)\n",
        "\treturn array(X), array(y)\n",
        " \n",
        "# define input sequence\n",
        "raw_seq = dfData['close']\n",
        "# choose a number of time steps\n",
        "n_steps = 4 # n_steps = n_seq*n_steps\n",
        "print('step:', n_steps)\n",
        "# split into samples\n",
        "X, y = split_sequence(raw_seq, n_steps)\n",
        "# reshape from [samples, timesteps] into [samples, subsequences, timesteps, features]\n",
        "n_features = 1\n",
        "n_seq = 2 # the number of subsequences\n",
        "n_steps = 2 # the number of time steps per subsequence\n",
        "X = X.reshape((X.shape[0], n_seq, n_steps, n_features))\n",
        "# define model\n",
        "model = Sequential()\n",
        "model.add(TimeDistributed(Conv1D(filters=64, kernel_size=1, activation='relu'), input_shape=(None, n_steps, n_features)))\n",
        "model.add(TimeDistributed(MaxPooling1D(pool_size=2)))\n",
        "model.add(TimeDistributed(Flatten()))\n",
        "model.add(LSTM(50, activation='relu'))\n",
        "model.add(Dense(1))\n",
        "model.compile(optimizer = 'adam', loss = 'mse', metrics=['mae', 'mape', 'acc'])\n",
        "# fit model\n",
        "model.fit(X, y, epochs=10, verbose=0)\n",
        "# demonstrate prediction\n",
        "k = dfData['close'].tolist()\n",
        "k.reverse()\n",
        "#The last 4 days closing price \n",
        "x_input = array([k[i] for i in range(n_steps*n_seq)])\n",
        "x_input = x_input.reshape((1, n_seq, n_steps, n_features))\n",
        "yhat = model.predict(x_input, verbose=0)\n",
        "print(yhat)"
      ],
      "execution_count": null,
      "outputs": [
        {
          "output_type": "stream",
          "name": "stdout",
          "text": [
            "step: 4\n",
            "[[147.15219]]\n"
          ]
        }
      ]
    },
    {
      "cell_type": "code",
      "metadata": {
        "colab": {
          "base_uri": "https://localhost:8080/",
          "height": 340
        },
        "id": "LBErHGlsAOsN",
        "outputId": "e8b20ad3-4377-4525-e251-28b98ff0965b"
      },
      "source": [
        "display(model.summary())"
      ],
      "execution_count": null,
      "outputs": [
        {
          "output_type": "stream",
          "text": [
            "Model: \"sequential\"\n",
            "_________________________________________________________________\n",
            "Layer (type)                 Output Shape              Param #   \n",
            "=================================================================\n",
            "time_distributed (TimeDistri (None, None, 3, 64)       128       \n",
            "_________________________________________________________________\n",
            "time_distributed_1 (TimeDist (None, None, 1, 64)       0         \n",
            "_________________________________________________________________\n",
            "time_distributed_2 (TimeDist (None, None, 64)          0         \n",
            "_________________________________________________________________\n",
            "lstm (LSTM)                  (None, 50)                23000     \n",
            "_________________________________________________________________\n",
            "dense (Dense)                (None, 1)                 51        \n",
            "=================================================================\n",
            "Total params: 23,179\n",
            "Trainable params: 23,179\n",
            "Non-trainable params: 0\n",
            "_________________________________________________________________\n"
          ],
          "name": "stdout"
        },
        {
          "output_type": "display_data",
          "data": {
            "text/plain": [
              "None"
            ]
          },
          "metadata": {
            "tags": []
          }
        }
      ]
    },
    {
      "cell_type": "code",
      "metadata": {
        "id": "7hF7ppj-K4rg"
      },
      "source": [
        ""
      ],
      "execution_count": null,
      "outputs": []
    }
  ]
}